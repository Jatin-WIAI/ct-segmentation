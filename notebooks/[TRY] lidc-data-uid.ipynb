{
 "cells": [
  {
   "cell_type": "code",
   "execution_count": 2,
   "metadata": {},
   "outputs": [],
   "source": [
    "%load_ext autoreload\n",
    "%autoreload 2\n"
   ]
  },
  {
   "cell_type": "code",
   "execution_count": 15,
   "metadata": {},
   "outputs": [],
   "source": [
    "import numpy as np\n",
    "import pandas as pd\n",
    "from glob import glob\n",
    "\n",
    "from pydicom import dcmread\n",
    "from tqdm import tqdm"
   ]
  },
  {
   "cell_type": "code",
   "execution_count": 9,
   "metadata": {},
   "outputs": [],
   "source": [
    "ROOT_DIR = '/scratche/users/sansiddh/LIDC-IDRI/'\n",
    "all_dicoms = glob(ROOT_DIR+'*/*/*/*.dcm')"
   ]
  },
  {
   "cell_type": "code",
   "execution_count": 10,
   "metadata": {},
   "outputs": [
    {
     "data": {
      "text/plain": [
       "244527"
      ]
     },
     "execution_count": 10,
     "metadata": {},
     "output_type": "execute_result"
    }
   ],
   "source": [
    "len(all_dicoms)"
   ]
  },
  {
   "cell_type": "code",
   "execution_count": 16,
   "metadata": {},
   "outputs": [
    {
     "name": "stderr",
     "output_type": "stream",
     "text": [
      "244527it [1:39:50, 40.82it/s]\n"
     ]
    }
   ],
   "source": [
    "df = pd.DataFrame(columns=['filename', 'sop_instance_id'])\n",
    "\n",
    "for i, path in tqdm(enumerate(all_dicoms)):\n",
    "    df.loc[i, 'filename'] = path\n",
    "    dicom = dcmread(path)\n",
    "    df.loc[i, 'sop_instance_id'] = dicom.SOPInstanceUID"
   ]
  },
  {
   "cell_type": "code",
   "execution_count": null,
   "metadata": {},
   "outputs": [],
   "source": [
    "len(pd.unique(df['sop_instance_id'])) == len(df)\n",
    "\n",
    "pd.unique(df.groupby('sop_instance_id').count()['filename'])\n"
   ]
  },
  {
   "cell_type": "code",
   "execution_count": null,
   "metadata": {},
   "outputs": [],
   "source": [
    "df.to_csv('/scratche/users/sansiddh/LIDC-IDRI/fname_sop_id_mapping.csv')"
   ]
  }
 ],
 "metadata": {
  "interpreter": {
   "hash": "8ecbe84ab1a1dea167d6d74212118df6ab52bd3fecf95e529ee263433d62d2fa"
  },
  "kernelspec": {
   "display_name": "Python 3.9.7 64-bit ('misc': conda)",
   "language": "python",
   "name": "python3"
  },
  "language_info": {
   "codemirror_mode": {
    "name": "ipython",
    "version": 3
   },
   "file_extension": ".py",
   "mimetype": "text/x-python",
   "name": "python",
   "nbconvert_exporter": "python",
   "pygments_lexer": "ipython3",
   "version": "3.9.7"
  },
  "orig_nbformat": 4
 },
 "nbformat": 4,
 "nbformat_minor": 2
}
