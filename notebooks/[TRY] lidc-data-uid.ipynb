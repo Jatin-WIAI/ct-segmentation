{
 "cells": [
  {
   "cell_type": "code",
   "execution_count": 1,
   "metadata": {},
   "outputs": [],
   "source": [
    "%load_ext autoreload\n",
    "%autoreload 2\n"
   ]
  },
  {
   "cell_type": "code",
   "execution_count": 2,
   "metadata": {},
   "outputs": [],
   "source": [
    "import numpy as np\n",
    "import pandas as pd\n",
    "from glob import glob\n",
    "\n",
    "from pydicom import dcmread\n",
    "from tqdm import tqdm"
   ]
  },
  {
   "cell_type": "code",
   "execution_count": 16,
   "metadata": {},
   "outputs": [],
   "source": [
    "ROOT_DIR = '/scratche/users/sansiddh/LIDC-IDRI/data/'\n",
    "all_dicoms = glob(ROOT_DIR+'*/*/*/*.dcm')"
   ]
  },
  {
   "cell_type": "code",
   "execution_count": 17,
   "metadata": {},
   "outputs": [
    {
     "data": {
      "text/plain": [
       "244527"
      ]
     },
     "execution_count": 17,
     "metadata": {},
     "output_type": "execute_result"
    }
   ],
   "source": [
    "len(all_dicoms)"
   ]
  },
  {
   "cell_type": "code",
   "execution_count": 16,
   "metadata": {},
   "outputs": [
    {
     "name": "stderr",
     "output_type": "stream",
     "text": [
      "244527it [1:39:50, 40.82it/s]\n"
     ]
    }
   ],
   "source": [
    "df = pd.DataFrame(columns=['filename', 'sop_instance_id'])\n",
    "\n",
    "for i, path in tqdm(enumerate(all_dicoms)):\n",
    "    df.loc[i, 'filename'] = path\n",
    "    dicom = dcmread(path)\n",
    "    df.loc[i, 'sop_instance_id'] = dicom.SOPInstanceUID"
   ]
  },
  {
   "cell_type": "code",
   "execution_count": null,
   "metadata": {},
   "outputs": [],
   "source": [
    "len(pd.unique(df['sop_instance_id'])) == len(df)\n",
    "\n",
    "pd.unique(df.groupby('sop_instance_id').count()['filename'])\n"
   ]
  },
  {
   "cell_type": "code",
   "execution_count": 13,
   "metadata": {},
   "outputs": [],
   "source": [
    "df.to_csv('/scratche/users/sansiddh/LIDC-IDRI/fname_sop_id_mapping.csv')"
   ]
  },
  {
   "cell_type": "code",
   "execution_count": 15,
   "metadata": {},
   "outputs": [
    {
     "data": {
      "text/html": [
       "<div>\n",
       "<style scoped>\n",
       "    .dataframe tbody tr th:only-of-type {\n",
       "        vertical-align: middle;\n",
       "    }\n",
       "\n",
       "    .dataframe tbody tr th {\n",
       "        vertical-align: top;\n",
       "    }\n",
       "\n",
       "    .dataframe thead th {\n",
       "        text-align: right;\n",
       "    }\n",
       "</style>\n",
       "<table border=\"1\" class=\"dataframe\">\n",
       "  <thead>\n",
       "    <tr style=\"text-align: right;\">\n",
       "      <th></th>\n",
       "      <th>filename</th>\n",
       "      <th>sop_instance_id</th>\n",
       "    </tr>\n",
       "  </thead>\n",
       "  <tbody>\n",
       "    <tr>\n",
       "      <th>0</th>\n",
       "      <td>/scratche/users/sansiddh/LIDC-IDRI/data/LIDC-I...</td>\n",
       "      <td>1.3.6.1.4.1.14519.5.2.1.6279.6001.262721256650...</td>\n",
       "    </tr>\n",
       "    <tr>\n",
       "      <th>1</th>\n",
       "      <td>/scratche/users/sansiddh/LIDC-IDRI/data/LIDC-I...</td>\n",
       "      <td>1.3.6.1.4.1.14519.5.2.1.6279.6001.512235483218...</td>\n",
       "    </tr>\n",
       "    <tr>\n",
       "      <th>2</th>\n",
       "      <td>/scratche/users/sansiddh/LIDC-IDRI/data/LIDC-I...</td>\n",
       "      <td>1.3.6.1.4.1.14519.5.2.1.6279.6001.806997748376...</td>\n",
       "    </tr>\n",
       "    <tr>\n",
       "      <th>3</th>\n",
       "      <td>/scratche/users/sansiddh/LIDC-IDRI/data/LIDC-I...</td>\n",
       "      <td>1.3.6.1.4.1.14519.5.2.1.6279.6001.206640541506...</td>\n",
       "    </tr>\n",
       "    <tr>\n",
       "      <th>4</th>\n",
       "      <td>/scratche/users/sansiddh/LIDC-IDRI/data/LIDC-I...</td>\n",
       "      <td>1.3.6.1.4.1.14519.5.2.1.6279.6001.144082670553...</td>\n",
       "    </tr>\n",
       "    <tr>\n",
       "      <th>...</th>\n",
       "      <td>...</td>\n",
       "      <td>...</td>\n",
       "    </tr>\n",
       "    <tr>\n",
       "      <th>244522</th>\n",
       "      <td>/scratche/users/sansiddh/LIDC-IDRI/data/LIDC-I...</td>\n",
       "      <td>1.3.6.1.4.1.14519.5.2.1.6279.6001.257901036248...</td>\n",
       "    </tr>\n",
       "    <tr>\n",
       "      <th>244523</th>\n",
       "      <td>/scratche/users/sansiddh/LIDC-IDRI/data/LIDC-I...</td>\n",
       "      <td>1.3.6.1.4.1.14519.5.2.1.6279.6001.178611132249...</td>\n",
       "    </tr>\n",
       "    <tr>\n",
       "      <th>244524</th>\n",
       "      <td>/scratche/users/sansiddh/LIDC-IDRI/data/LIDC-I...</td>\n",
       "      <td>1.3.6.1.4.1.14519.5.2.1.6279.6001.231434729618...</td>\n",
       "    </tr>\n",
       "    <tr>\n",
       "      <th>244525</th>\n",
       "      <td>/scratche/users/sansiddh/LIDC-IDRI/data/LIDC-I...</td>\n",
       "      <td>1.3.6.1.4.1.14519.5.2.1.6279.6001.136036149043...</td>\n",
       "    </tr>\n",
       "    <tr>\n",
       "      <th>244526</th>\n",
       "      <td>/scratche/users/sansiddh/LIDC-IDRI/data/LIDC-I...</td>\n",
       "      <td>1.3.6.1.4.1.14519.5.2.1.6279.6001.173386576676...</td>\n",
       "    </tr>\n",
       "  </tbody>\n",
       "</table>\n",
       "<p>244527 rows × 2 columns</p>\n",
       "</div>"
      ],
      "text/plain": [
       "                                                 filename  \\\n",
       "0       /scratche/users/sansiddh/LIDC-IDRI/data/LIDC-I...   \n",
       "1       /scratche/users/sansiddh/LIDC-IDRI/data/LIDC-I...   \n",
       "2       /scratche/users/sansiddh/LIDC-IDRI/data/LIDC-I...   \n",
       "3       /scratche/users/sansiddh/LIDC-IDRI/data/LIDC-I...   \n",
       "4       /scratche/users/sansiddh/LIDC-IDRI/data/LIDC-I...   \n",
       "...                                                   ...   \n",
       "244522  /scratche/users/sansiddh/LIDC-IDRI/data/LIDC-I...   \n",
       "244523  /scratche/users/sansiddh/LIDC-IDRI/data/LIDC-I...   \n",
       "244524  /scratche/users/sansiddh/LIDC-IDRI/data/LIDC-I...   \n",
       "244525  /scratche/users/sansiddh/LIDC-IDRI/data/LIDC-I...   \n",
       "244526  /scratche/users/sansiddh/LIDC-IDRI/data/LIDC-I...   \n",
       "\n",
       "                                          sop_instance_id  \n",
       "0       1.3.6.1.4.1.14519.5.2.1.6279.6001.262721256650...  \n",
       "1       1.3.6.1.4.1.14519.5.2.1.6279.6001.512235483218...  \n",
       "2       1.3.6.1.4.1.14519.5.2.1.6279.6001.806997748376...  \n",
       "3       1.3.6.1.4.1.14519.5.2.1.6279.6001.206640541506...  \n",
       "4       1.3.6.1.4.1.14519.5.2.1.6279.6001.144082670553...  \n",
       "...                                                   ...  \n",
       "244522  1.3.6.1.4.1.14519.5.2.1.6279.6001.257901036248...  \n",
       "244523  1.3.6.1.4.1.14519.5.2.1.6279.6001.178611132249...  \n",
       "244524  1.3.6.1.4.1.14519.5.2.1.6279.6001.231434729618...  \n",
       "244525  1.3.6.1.4.1.14519.5.2.1.6279.6001.136036149043...  \n",
       "244526  1.3.6.1.4.1.14519.5.2.1.6279.6001.173386576676...  \n",
       "\n",
       "[244527 rows x 2 columns]"
      ]
     },
     "execution_count": 15,
     "metadata": {},
     "output_type": "execute_result"
    }
   ],
   "source": [
    "df"
   ]
  },
  {
   "cell_type": "code",
   "execution_count": null,
   "metadata": {},
   "outputs": [],
   "source": []
  }
 ],
 "metadata": {
  "interpreter": {
   "hash": "8ecbe84ab1a1dea167d6d74212118df6ab52bd3fecf95e529ee263433d62d2fa"
  },
  "kernelspec": {
   "display_name": "Python 3.9.7 64-bit ('misc': conda)",
   "language": "python",
   "name": "python3"
  },
  "language_info": {
   "codemirror_mode": {
    "name": "ipython",
    "version": 3
   },
   "file_extension": ".py",
   "mimetype": "text/x-python",
   "name": "python",
   "nbconvert_exporter": "python",
   "pygments_lexer": "ipython3",
   "version": "3.9.7"
  },
  "orig_nbformat": 4
 },
 "nbformat": 4,
 "nbformat_minor": 2
}
