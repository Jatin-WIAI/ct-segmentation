{
 "cells": [
  {
   "cell_type": "code",
   "execution_count": 1,
   "metadata": {},
   "outputs": [],
   "source": [
    "%load_ext autoreload\n",
    "%autoreload 2"
   ]
  },
  {
   "cell_type": "code",
   "execution_count": 9,
   "metadata": {},
   "outputs": [],
   "source": [
    "from bs4 import BeautifulSoup\n",
    "import xmltodict\n",
    "from glob import glob\n",
    "\n",
    "from collections import OrderedDict"
   ]
  },
  {
   "cell_type": "code",
   "execution_count": 3,
   "metadata": {},
   "outputs": [],
   "source": [
    "ROOT_DIR = '/scratche/users/sansiddh/LIDC-IDRI/LIDC-IDRI-0001/01-01-2000-30178/3000566.000000-03192/'\n",
    "xmlpath = glob(ROOT_DIR+'*.xml')[0]"
   ]
  },
  {
   "cell_type": "code",
   "execution_count": 4,
   "metadata": {},
   "outputs": [],
   "source": [
    "with open(xmlpath, 'r') as f:\n",
    "    data = f.read()"
   ]
  },
  {
   "cell_type": "code",
   "execution_count": 34,
   "metadata": {},
   "outputs": [],
   "source": [
    "datadict = dict(xmltodict.parse(data))\n",
    "datadict['LidcReadMessage'] = dict(datadict['LidcReadMessage'])\n",
    "datadict['LidcReadMessage']['ResponseHeader'] = dict(datadict['LidcReadMessage']['ResponseHeader'])\n",
    "\n",
    "for i in range(len(datadict['LidcReadMessage']['readingSession'])):\n",
    "    datadict['LidcReadMessage']['readingSession'][i] = dict(datadict['LidcReadMessage']['readingSession'][i])"
   ]
  },
  {
   "cell_type": "code",
   "execution_count": 10,
   "metadata": {},
   "outputs": [],
   "source": [
    "def convert_orddict_to_dict(datadict):\n",
    "    if isinstance(datadict, OrderedDict):\n",
    "        datadict = dict(datadict)\n",
    "        for key, value in datadict.items():\n",
    "            datadict[key] = convert_orddict_to_dict(value)"
   ]
  },
  {
   "cell_type": "code",
   "execution_count": 11,
   "metadata": {},
   "outputs": [],
   "source": [
    "convert_orddict_to_dict(datadict)"
   ]
  },
  {
   "cell_type": "code",
   "execution_count": 65,
   "metadata": {},
   "outputs": [
    {
     "data": {
      "text/plain": [
       "[OrderedDict([('nonNoduleID', '_Non-nodule 001'),\n",
       "              ('imageZposition', '-185.000000'),\n",
       "              ('imageSOP_UID',\n",
       "               '1.3.6.1.4.1.14519.5.2.1.6279.6001.265752406785564034990206112632'),\n",
       "              ('locus', OrderedDict([('xCoord', '396'), ('yCoord', '216')]))]),\n",
       " OrderedDict([('nonNoduleID', '_Non-nodule 002'),\n",
       "              ('imageZposition', '-242.500000'),\n",
       "              ('imageSOP_UID',\n",
       "               '1.3.6.1.4.1.14519.5.2.1.6279.6001.588464900616851045070333788793'),\n",
       "              ('locus', OrderedDict([('xCoord', '200'), ('yCoord', '342')]))]),\n",
       " OrderedDict([('nonNoduleID', '_Non-nodule 003'),\n",
       "              ('imageZposition', '-175.000000'),\n",
       "              ('imageSOP_UID',\n",
       "               '1.3.6.1.4.1.14519.5.2.1.6279.6001.315606855383999143703852453142'),\n",
       "              ('locus', OrderedDict([('xCoord', '109'), ('yCoord', '291')]))]),\n",
       " OrderedDict([('nonNoduleID', '_Non-nodule 004'),\n",
       "              ('imageZposition', '-165.000000'),\n",
       "              ('imageSOP_UID',\n",
       "               '1.3.6.1.4.1.14519.5.2.1.6279.6001.980992723094835143194725792701'),\n",
       "              ('locus', OrderedDict([('xCoord', '212'), ('yCoord', '157')]))])]"
      ]
     },
     "execution_count": 65,
     "metadata": {},
     "output_type": "execute_result"
    }
   ],
   "source": [
    "datadict['LidcReadMessage']['readingSession'][0]['nonNodule']"
   ]
  },
  {
   "cell_type": "code",
   "execution_count": 58,
   "metadata": {},
   "outputs": [],
   "source": [
    "all_xmls = glob('/scratche/users/sansiddh/LIDC-IDRI/*/*/*/*.xml')\n",
    "all_dcms = glob('/scratche/users/sansiddh/LIDC-IDRI/*/*/*/*.dcm')\n",
    "\n",
    "all_subjs = glob('/scratche/users/sansiddh/LIDC-IDRI/*/')\n",
    "all_studies = glob('/scratche/users/sansiddh/LIDC-IDRI/*/*/')\n",
    "all_series = glob('/scratche/users/sansiddh/LIDC-IDRI/*/*/*/')"
   ]
  },
  {
   "cell_type": "code",
   "execution_count": 26,
   "metadata": {},
   "outputs": [
    {
     "data": {
      "text/plain": [
       "1308"
      ]
     },
     "execution_count": 26,
     "metadata": {},
     "output_type": "execute_result"
    }
   ],
   "source": [
    "len(all_series)"
   ]
  },
  {
   "cell_type": "code",
   "execution_count": 24,
   "metadata": {},
   "outputs": [
    {
     "data": {
      "text/plain": [
       "1010"
      ]
     },
     "execution_count": 24,
     "metadata": {},
     "output_type": "execute_result"
    }
   ],
   "source": [
    "len(all_subjs)"
   ]
  },
  {
   "cell_type": "code",
   "execution_count": 42,
   "metadata": {},
   "outputs": [],
   "source": [
    "from pydicom import dcmread"
   ]
  },
  {
   "cell_type": "code",
   "execution_count": 44,
   "metadata": {},
   "outputs": [],
   "source": [
    "dcmfile = dcmread(glob(ROOT_DIR+'*.dcm')[0])"
   ]
  },
  {
   "cell_type": "code",
   "execution_count": 50,
   "metadata": {},
   "outputs": [
    {
     "data": {
      "text/plain": [
       "'1.3.6.1.4.1.14519.5.2.1.6279.6001.262721256650280657946440242654'"
      ]
     },
     "execution_count": 50,
     "metadata": {},
     "output_type": "execute_result"
    }
   ],
   "source": [
    "dcmfile.file_meta.MediaStorageSOPInstanceUID"
   ]
  },
  {
   "cell_type": "code",
   "execution_count": 52,
   "metadata": {},
   "outputs": [
    {
     "data": {
      "text/plain": [
       "'1.3.6.1.4.1.14519.5.2.1.6279.6001.242033371867591328384552261733'"
      ]
     },
     "execution_count": 52,
     "metadata": {},
     "output_type": "execute_result"
    }
   ],
   "source": [
    "dcmfile.UID"
   ]
  },
  {
   "cell_type": "code",
   "execution_count": 54,
   "metadata": {},
   "outputs": [
    {
     "data": {
      "text/plain": [
       "'1.2.840.10008.5.1.4.1.1.2'"
      ]
     },
     "execution_count": 54,
     "metadata": {},
     "output_type": "execute_result"
    }
   ],
   "source": [
    "dcmfile.SOPClassUID"
   ]
  }
 ],
 "metadata": {
  "interpreter": {
   "hash": "8ecbe84ab1a1dea167d6d74212118df6ab52bd3fecf95e529ee263433d62d2fa"
  },
  "kernelspec": {
   "display_name": "Python 3.9.7 64-bit ('misc': conda)",
   "language": "python",
   "name": "python3"
  },
  "language_info": {
   "codemirror_mode": {
    "name": "ipython",
    "version": 3
   },
   "file_extension": ".py",
   "mimetype": "text/x-python",
   "name": "python",
   "nbconvert_exporter": "python",
   "pygments_lexer": "ipython3",
   "version": "3.9.7"
  },
  "orig_nbformat": 4
 },
 "nbformat": 4,
 "nbformat_minor": 2
}
